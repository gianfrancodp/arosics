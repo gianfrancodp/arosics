{
 "cells": [
  {
   "cell_type": "markdown",
   "metadata": {},
   "source": [
    "# Arosics test\n",
    "\n",
    "Data downloaded inside [CoastSat](https://github.com/kvos/CoastSat) toolkit process, raw data is obtained via [Google Earth Engine API](https://github.com/kvos/CoastSat/blob/master/coastsat/SDS_download.py)\n",
    "\n",
    "### 1. Local Coregistration Test of two S2 images \n",
    "\n",
    "\n",
    "NOTE:\n",
    "\n",
    "If during installation via pip installer process, GDAL is installed after numpy importing of _gdal_array is not possible.\n",
    "I found a solution [here](https://gis.stackexchange.com/a/465888/140483) reinstalling gdal with some custom configuration"
   ]
  },
  {
   "cell_type": "code",
   "execution_count": 9,
   "metadata": {},
   "outputs": [
    {
     "name": "stderr",
     "output_type": "stream",
     "text": [
      "Polygonize progress     |============================================------| 89.0% Complete  => 0:00:00"
     ]
    },
    {
     "name": "stdout",
     "output_type": "stream",
     "text": [
      "Calculating footprint polygon and actual data corner coordinates for reference image...\n"
     ]
    },
    {
     "name": "stderr",
     "output_type": "stream",
     "text": [
      "Polygonize progress     |==================================================| 100.0% Complete  => 0:00:00\n",
      "Polygonize progress     |==================================================| 100.0% Complete  => 0:00:00\n"
     ]
    },
    {
     "name": "stdout",
     "output_type": "stream",
     "text": [
      "Bounding box of calculated footprint for reference image:\n",
      "\t(456080.0, 4070040.0, 459660.0, 4071840.0)\n",
      "Calculating footprint polygon and actual data corner coordinates for image to be shifted...\n",
      "Bounding box of calculated footprint for image to be shifted:\n",
      "\t(456080.0, 4070040.0, 459660.0, 4071840.0)\n",
      "Matching window position (X,Y): 457870.0/4070940.0\n",
      "Initializing tie points grid...\n",
      "Calculating tie point grid (684 points) using 8 CPU cores...\n"
     ]
    },
    {
     "name": "stderr",
     "output_type": "stream",
     "text": [
      "\tprogress: |==================================================| 100.0% Complete  => 0:00:31\n",
      "/Volumes/Dati/pythonTest/arosics/arosics/lib/python3.11/site-packages/arosics/Tie_Point_Grid.py:384: FutureWarning: Downcasting behavior in `replace` is deprecated and will be removed in a future version. To retain the old behavior, explicitly call `result.infer_objects(copy=False)`. To opt-in to the future behavior, set `pd.set_option('future.no_silent_downcasting', True)`\n",
      "  GDF = GDF.replace([np.nan, None], int(self.outFillVal))  # fillna fails with geopandas==0.6.0\n",
      "/Volumes/Dati/pythonTest/arosics/arosics/lib/python3.11/site-packages/arosics/Tie_Point_Grid.py:1171: FutureWarning: Downcasting object dtype arrays on .fillna, .ffill, .bfill is deprecated and will change in a future version. Call result.infer_objects(copy=False) instead. To opt-in to the future behavior, set `pd.set_option('future.no_silent_downcasting', True)`\n",
      "  fullGDF = fullGDF.fillna(False)  # NaNs are due to exclude_previous_outliers\n",
      "Translating progress |==================================================| 100.0% Complete  => 0:00:00\n",
      "Warping progress     |==================================================| 100.0% Complete  => 0:00:00\n"
     ]
    },
    {
     "name": "stdout",
     "output_type": "stream",
     "text": [
      "Found 584 matches.\n",
      "Performing validity checks...\n",
      "213 tie points flagged by level 1 filtering (reliability).\n",
      "373 tie points flagged by level 2 filtering (SSIM).\n",
      "12 tie points flagged by level 3 filtering (RANSAC)\n",
      "117 valid tie points remain after filtering.\n",
      "Correcting geometric shifts...\n",
      "Writing GeoArray of size (180, 360) to /Volumes/Dati/pythonTest/arosics/arosics/tests/coastsat/test/2018-01-08-09-59-50_S2_CAUCANA-CASUZZE_swir__shifted_to__2018-01-03-09-57-00_S2_CAUCANA-CASUZZE_swir.bsq.\n"
     ]
    },
    {
     "data": {
      "text/plain": [
       "OrderedDict([('band', None),\n",
       "             ('is shifted', True),\n",
       "             ('is resampled', True),\n",
       "             ('updated map info',\n",
       "              ['UTM',\n",
       "               1.0,\n",
       "               1.0,\n",
       "               456060.0,\n",
       "               4071840.0,\n",
       "               10.0,\n",
       "               10.0,\n",
       "               33,\n",
       "               'North',\n",
       "               'WGS-84']),\n",
       "             ('updated geotransform',\n",
       "              (456060.0, 10.0, 0.0, 4071840.0, 0.0, -10.0)),\n",
       "             ('updated projection',\n",
       "              'PROJCS[\"WGS 84 / UTM zone 33N\",GEOGCS[\"WGS 84\",DATUM[\"WGS_1984\",SPHEROID[\"WGS 84\",6378137,298.257223563,AUTHORITY[\"EPSG\",\"7030\"]],AUTHORITY[\"EPSG\",\"6326\"]],PRIMEM[\"Greenwich\",0,AUTHORITY[\"EPSG\",\"8901\"]],UNIT[\"degree\",0.0174532925199433,AUTHORITY[\"EPSG\",\"9122\"]],AUTHORITY[\"EPSG\",\"4326\"]],PROJECTION[\"Transverse_Mercator\"],PARAMETER[\"latitude_of_origin\",0],PARAMETER[\"central_meridian\",15],PARAMETER[\"scale_factor\",0.9996],PARAMETER[\"false_easting\",500000],PARAMETER[\"false_northing\",0],UNIT[\"metre\",1,AUTHORITY[\"EPSG\",\"9001\"]],AXIS[\"Easting\",EAST],AXIS[\"Northing\",NORTH],AUTHORITY[\"EPSG\",\"32633\"]]'),\n",
       "             ('arr_shifted',\n",
       "              array([[   0,    0, 1597, ..., 2507, 2498, 2495],\n",
       "                     [   0,    0, 1626, ..., 2487, 2479, 2476],\n",
       "                     [   0,    0, 1698, ..., 2447, 2443, 2440],\n",
       "                     ...,\n",
       "                     [   0,    0,  191, ...,  674,  506,  425],\n",
       "                     [   0,    0,  191, ...,  655,  494,  421],\n",
       "                     [   0,    0,  191, ...,  641,  487,  414]], dtype=uint16)),\n",
       "             ('GeoArray_shifted',\n",
       "              <geoarray.baseclasses.GeoArray at 0x140668350>)])"
      ]
     },
     "execution_count": 9,
     "metadata": {},
     "output_type": "execute_result"
    }
   ],
   "source": [
    "# use sys for check path to lib files\n",
    "import sys\n",
    "sys.path.append('..')\n",
    "# trouble during import gdal_array\n",
    "sys.path.insert(0, '/Volumes/Dati/pythonTest/arosics/arosics/lib/python3.11/site-packages/osgeo')\n",
    "\n",
    "\n",
    "from osgeo import gdal_array\n",
    "\n",
    "# import arosics\n",
    "\n",
    "\n",
    "from arosics import COREG_LOCAL\n",
    "\n",
    "# define the reference and the target image\n",
    "im_reference ='2018-01-03-09-57-00_S2_CAUCANA-CASUZZE_swir.tif'\n",
    "im_target = '2018-01-08-09-59-50_S2_CAUCANA-CASUZZE_swir.tif'\n",
    "kwargs = {\n",
    "    'grid_res' : 10,\n",
    "    'window_size' : (64, 64),\n",
    "    'path_out' : 'auto',\n",
    "    'projectDir' :'test',\n",
    "    'q' : False,\n",
    "}\n",
    "\n",
    "CRL = COREG_LOCAL(im_reference, im_target, **kwargs)\n",
    "CRL.correct_shifts()"
   ]
  }
 ],
 "metadata": {
  "kernelspec": {
   "display_name": "arosics",
   "language": "python",
   "name": "python3"
  },
  "language_info": {
   "codemirror_mode": {
    "name": "ipython",
    "version": 3
   },
   "file_extension": ".py",
   "mimetype": "text/x-python",
   "name": "python",
   "nbconvert_exporter": "python",
   "pygments_lexer": "ipython3",
   "version": "3.11.1"
  }
 },
 "nbformat": 4,
 "nbformat_minor": 2
}
